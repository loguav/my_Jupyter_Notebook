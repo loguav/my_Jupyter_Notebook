{
 "cells": [
  {
   "cell_type": "markdown",
   "id": "917833bc-f270-4727-bc0d-15c8a96f4930",
   "metadata": {},
   "source": [
    "# Data Science Tools and Ecosystem"
   ]
  },
  {
   "cell_type": "markdown",
   "id": "4e7dcb4d-f7ed-4256-957b-90133bec1f9e",
   "metadata": {},
   "source": [
    "In this notebook, Data Science Tools and Ecosystem are summarized"
   ]
  },
  {
   "cell_type": "markdown",
   "id": "22bd1d98-785c-4ea4-bde1-6a243766394d",
   "metadata": {},
   "source": [
    "**Objectives:**\n",
    "* List popular languages for Data Science.\n",
    "* List commonly used libraries for Data Science.\n",
    "* List Data Science Tools.\n",
    "* Evaluating arithmetic expressions."
   ]
  },
  {
   "cell_type": "markdown",
   "id": "110f4f41-a342-4790-adf5-bbd31190eb41",
   "metadata": {},
   "source": [
    "Some of most popular languages that Data Science use are:\n",
    "1. Python\n",
    "2. R\n",
    "3. Julia \n",
    "4. Scala"
   ]
  },
  {
   "cell_type": "markdown",
   "id": "10c73583-4212-4247-a9a4-81a38ebec33c",
   "metadata": {},
   "source": [
    "Some of the commonly used libraries used by Data Scientists include:\n",
    "1. Numpy\n",
    "2. Pandas\n",
    "3. Seaborn\n",
    "4. Matplotlib"
   ]
  },
  {
   "cell_type": "markdown",
   "id": "4ff1d98a-33cf-4452-94ab-e0ae3cf47ca9",
   "metadata": {},
   "source": [
    "|Data Science Tools|\n",
    "|------------------|\n",
    "|Jupyter.          |\n",
    "|R Studio          |\n",
    "|PyCharm.          |"
   ]
  },
  {
   "cell_type": "markdown",
   "id": "a2009e53-068f-4504-9c2c-12ca7b8c91d2",
   "metadata": {},
   "source": [
    "### Below are a few examples of evaluating arithmetic expressions in Python."
   ]
  },
  {
   "cell_type": "code",
   "execution_count": 11,
   "id": "4c5df2fc-9471-4b31-a887-44c7cbf16494",
   "metadata": {},
   "outputs": [
    {
     "data": {
      "text/plain": [
       "17"
      ]
     },
     "execution_count": 11,
     "metadata": {},
     "output_type": "execute_result"
    }
   ],
   "source": [
    "# This is a simple expression to multiply and then add intengers\n",
    "(3*4)+5"
   ]
  },
  {
   "cell_type": "code",
   "execution_count": 13,
   "id": "d9d72156-3115-4419-873a-08b1f9b4c68d",
   "metadata": {},
   "outputs": [
    {
     "data": {
      "text/plain": [
       "3.3333333333333335"
      ]
     },
     "execution_count": 13,
     "metadata": {},
     "output_type": "execute_result"
    }
   ],
   "source": [
    "#This will convert 200 minutes to hours by diving by 60.\n",
    "200/60\n"
   ]
  },
  {
   "cell_type": "markdown",
   "id": "d9bce2ce-467e-4a60-b09a-f5aa665d60db",
   "metadata": {},
   "source": [
    "## Author\n",
    "Lorenzo Gutiérrez"
   ]
  },
  {
   "cell_type": "code",
   "execution_count": null,
   "id": "39f6b709-aafe-472a-afb5-3e210203f12c",
   "metadata": {},
   "outputs": [],
   "source": []
  }
 ],
 "metadata": {
  "kernelspec": {
   "display_name": "Python 3 (ipykernel)",
   "language": "python",
   "name": "python3"
  },
  "language_info": {
   "codemirror_mode": {
    "name": "ipython",
    "version": 3
   },
   "file_extension": ".py",
   "mimetype": "text/x-python",
   "name": "python",
   "nbconvert_exporter": "python",
   "pygments_lexer": "ipython3",
   "version": "3.12.2"
  }
 },
 "nbformat": 4,
 "nbformat_minor": 5
}
